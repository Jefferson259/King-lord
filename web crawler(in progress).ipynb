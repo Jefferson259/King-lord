import requests
from bs4 import BeautifulSoup
site = input()
full_Url = input()


def trade_spider(max_pages):
    page = 1
    while page <= max_pages:
        url = site + str(page)
        source_code = requests.get(url)
        plain_text = source_code.text
        soup = BeautifulSoup(plain_text)
        for link in soup.findAll('a', {'class': 'item-name'}):
            href = full_Url + link.get('href')
            title = link.string
            # print(href)
            # print(title)
            get_single_item_data(href)
        page += 1


def get_single_item_data(item_url):
    source_code = requests.get(item_url)
    plain_text = source_code.text
    soup = BeautifulSoup(plain_text)
    for item_name in soup.findAll('div', {'class': 'i-name'}):
        print(item_name)
    for link in soup.findAll('a'):
        href = full_Url + link.get('href')
        print(href)




trade_spider(2)
